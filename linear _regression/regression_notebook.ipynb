{
 "cells": [
  {
   "cell_type": "code",
   "execution_count": 1,
   "metadata": {},
   "outputs": [],
   "source": [
    "from linear_regression_practice import Linear_Regression"
   ]
  },
  {
   "cell_type": "code",
   "execution_count": 2,
   "metadata": {},
   "outputs": [],
   "source": [
    "model_100 = Linear_Regression(\"Boston.csv\")\n",
    "model_1000 = Linear_Regression(\"Boston.csv\")\n",
    "model_10000 = Linear_Regression(\"Boston.csv\")\n",
    "model_100000 = Linear_Regression(\"Boston.csv\")\n",
    "\n",
    "model_100.buildData()\n",
    "model_1000.buildData()\n",
    "model_10000.buildData()\n",
    "model_100000.buildData()"
   ]
  },
  {
   "cell_type": "code",
   "execution_count": 3,
   "metadata": {},
   "outputs": [],
   "source": [
    "model_100.gradient_descent(0.00001,100)\n",
    "model_1000.gradient_descent(0.00001,1000)\n",
    "model_10000.gradient_descent(0.00001,10000)\n",
    "model_100000.gradient_descent(0.00001,100000)"
   ]
  },
  {
   "cell_type": "code",
   "execution_count": 6,
   "metadata": {},
   "outputs": [
    {
     "name": "stdout",
     "output_type": "stream",
     "text": [
      "Accuracy: 53.08%\n",
      "Model_100  None\n",
      "Accuracy: 52.72%\n",
      "Model_1000  None\n",
      "Accuracy: 62.94%\n",
      "Model_10000  None\n",
      "Accuracy: 76.84%\n",
      "Model_100000  None\n"
     ]
    }
   ],
   "source": [
    "print('Model_100 ', model_100.calculate_accuracy())\n",
    "print('Model_1000 ', model_1000.calculate_accuracy())\n",
    "print('Model_10000 ', model_10000.calculate_accuracy())\n",
    "print('Model_100000 ', model_100000.calculate_accuracy())"
   ]
  }
 ],
 "metadata": {
  "kernelspec": {
   "display_name": "Python 3",
   "language": "python",
   "name": "python3"
  },
  "language_info": {
   "codemirror_mode": {
    "name": "ipython",
    "version": 3
   },
   "file_extension": ".py",
   "mimetype": "text/x-python",
   "name": "python",
   "nbconvert_exporter": "python",
   "pygments_lexer": "ipython3",
   "version": "3.12.0"
  }
 },
 "nbformat": 4,
 "nbformat_minor": 2
}
